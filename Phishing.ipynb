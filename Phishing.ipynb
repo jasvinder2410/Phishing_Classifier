{
 "cells": [
  {
   "cell_type": "markdown",
   "id": "bf2bec12-43cd-4d9f-80b3-249e6dd37017",
   "metadata": {},
   "source": [
    "__Basic Modules Required__"
   ]
  },
  {
   "cell_type": "code",
   "execution_count": 1,
   "id": "144aaceb-d595-486b-9d82-681f2e83ef8f",
   "metadata": {},
   "outputs": [],
   "source": [
    "import pandas as pd\n",
    "import numpy as np\n",
    "import xgboost\n",
    "\n",
    "import warnings\n",
    "warnings.filterwarnings(\"ignore\")\n",
    "\n",
    "from sklearn.linear_model import LogisticRegression\n",
    "from sklearn.svm import SVC\n",
    "from xgboost import XGBClassifier\n",
    "from sklearn.preprocessing import StandardScaler"
   ]
  },
  {
   "cell_type": "markdown",
   "id": "41b59af8-c318-4bb7-a072-da7e500fa3a7",
   "metadata": {},
   "source": [
    "__Data Import__"
   ]
  },
  {
   "cell_type": "code",
   "execution_count": 2,
   "id": "2c23f7f2-e94a-4dc7-bbe9-e5b77192c97a",
   "metadata": {},
   "outputs": [],
   "source": [
    "df = pd.read_csv(\"C:\\\\Users\\\\tanwa\\\\Downloads\\\\archive (2)\\\\web-page-phishing.csv\")"
   ]
  },
  {
   "cell_type": "markdown",
   "id": "83cae5f5-226f-41f4-a3a0-1dc25954b184",
   "metadata": {},
   "source": [
    "__Checked for null values__"
   ]
  },
  {
   "cell_type": "code",
   "execution_count": 3,
   "id": "401a7f01-3345-44d7-8ef3-f8be109892f2",
   "metadata": {},
   "outputs": [
    {
     "data": {
      "text/plain": [
       "url_length        0\n",
       "n_dots            0\n",
       "n_hypens          0\n",
       "n_underline       0\n",
       "n_slash           0\n",
       "n_questionmark    0\n",
       "n_equal           0\n",
       "n_at              0\n",
       "n_and             0\n",
       "n_exclamation     0\n",
       "n_space           0\n",
       "n_tilde           0\n",
       "n_comma           0\n",
       "n_plus            0\n",
       "n_asterisk        0\n",
       "n_hastag          0\n",
       "n_dollar          0\n",
       "n_percent         0\n",
       "n_redirection     0\n",
       "phishing          0\n",
       "dtype: int64"
      ]
     },
     "execution_count": 3,
     "metadata": {},
     "output_type": "execute_result"
    }
   ],
   "source": [
    "df.isna().sum()"
   ]
  },
  {
   "cell_type": "markdown",
   "id": "aa5dec3c-52f0-4c6a-a2f7-fd21a903c888",
   "metadata": {},
   "source": [
    "__Divided independent and target variables__"
   ]
  },
  {
   "cell_type": "code",
   "execution_count": 4,
   "id": "7ed55953-398b-4193-808b-e209bdb6d470",
   "metadata": {},
   "outputs": [],
   "source": [
    "X = df.drop('phishing', axis = 1)\n",
    "y = df['phishing']"
   ]
  },
  {
   "cell_type": "markdown",
   "id": "e1a116eb-7026-41ad-9b15-908ae5e6d72e",
   "metadata": {},
   "source": [
    "__Train Test Split__"
   ]
  },
  {
   "cell_type": "code",
   "execution_count": 6,
   "id": "ad29ce95-a4c0-40ca-989b-cffda7e636f1",
   "metadata": {},
   "outputs": [],
   "source": [
    "from sklearn.model_selection import train_test_split\n",
    "X_train, X_test, y_train, y_test = train_test_split(X,y, test_size= 0.3)"
   ]
  },
  {
   "cell_type": "markdown",
   "id": "a70f886a-f038-4e53-87a0-06e0765a784e",
   "metadata": {},
   "source": [
    "__Scaling__"
   ]
  },
  {
   "cell_type": "code",
   "execution_count": 8,
   "id": "628be201-de9d-4460-8309-7baefd9f95d4",
   "metadata": {},
   "outputs": [],
   "source": [
    "scaler = StandardScaler()\n",
    "X_train_scaled = scaler.fit_transform(X_train)\n",
    "X_test_scaled = scaler.transform(X_test)"
   ]
  },
  {
   "cell_type": "markdown",
   "id": "7987c509-0015-4238-909d-5097e0428504",
   "metadata": {},
   "source": [
    "__Checking for class imbalance__"
   ]
  },
  {
   "cell_type": "code",
   "execution_count": 9,
   "id": "9e438835-ef86-49fb-b395-62086cf9c11e",
   "metadata": {},
   "outputs": [
    {
     "data": {
      "text/plain": [
       "phishing\n",
       "0    63715\n",
       "1    36362\n",
       "Name: count, dtype: int64"
      ]
     },
     "execution_count": 9,
     "metadata": {},
     "output_type": "execute_result"
    }
   ],
   "source": [
    "df['phishing'].value_counts()"
   ]
  },
  {
   "cell_type": "markdown",
   "id": "3a64f4dc-66e6-42a7-8f54-b49238e52cb4",
   "metadata": {},
   "source": [
    "__Addressed class imbalance through SMOTE__"
   ]
  },
  {
   "cell_type": "code",
   "execution_count": 11,
   "id": "d773d478-98b4-411c-9904-60d8192006d4",
   "metadata": {},
   "outputs": [],
   "source": [
    "from imblearn.over_sampling import SMOTE"
   ]
  },
  {
   "cell_type": "code",
   "execution_count": 12,
   "id": "8f7ea482-c0c9-465a-a542-c024016f5279",
   "metadata": {},
   "outputs": [],
   "source": [
    "smote = SMOTE(random_state= 42)\n",
    "X_train_resampled, y_train_resampled = smote.fit_resample(X_train_scaled, y_train)"
   ]
  },
  {
   "cell_type": "code",
   "execution_count": 16,
   "id": "2099143e-5d36-4dff-996c-ab28465bb612",
   "metadata": {},
   "outputs": [],
   "source": [
    "from collections import Counter"
   ]
  },
  {
   "cell_type": "code",
   "execution_count": 17,
   "id": "06562e91-1fbe-43b7-9206-f02f3d04aca7",
   "metadata": {},
   "outputs": [
    {
     "name": "stdout",
     "output_type": "stream",
     "text": [
      "Resampled class distribution: Counter({1: 44567, 0: 44567})\n"
     ]
    }
   ],
   "source": [
    "print(\"Resampled class distribution:\", Counter(y_train_resampled))"
   ]
  },
  {
   "cell_type": "markdown",
   "id": "b0ee03ed-d70c-47f1-86c4-5451f0632ac7",
   "metadata": {},
   "source": [
    "__Cross Validation and Hyperparameter Tuning__"
   ]
  },
  {
   "cell_type": "code",
   "execution_count": 18,
   "id": "40ea1a93-c85d-4686-a5e3-62f386b56259",
   "metadata": {},
   "outputs": [],
   "source": [
    "from sklearn.model_selection import RandomizedSearchCV"
   ]
  },
  {
   "cell_type": "code",
   "execution_count": 19,
   "id": "989638c3-d4a2-4732-95e3-10562b5f837e",
   "metadata": {},
   "outputs": [
    {
     "name": "stdout",
     "output_type": "stream",
     "text": [
      "LogisticRegression Best Score: 0.8447057052589748, Best Params: {'penalty': 'l2', 'C': 100}\n",
      "XGBClassifier Best Score: 0.8957412394406061, Best Params: {'random_state': 0, 'n_estimators': 100, 'max_depth': 11}\n"
     ]
    }
   ],
   "source": [
    "models = [LogisticRegression, XGBClassifier]\n",
    "params = [{'penalty':('l1','l2','elastic_net'),'C':[100,500,1000]},{'max_depth':[3,5,7,9,11],'n_estimators':[50,100,130],'random_state':[0,50,100]}]\n",
    "\n",
    "for i, model_class in enumerate(models):\n",
    "    model = model_class()  \n",
    "    clf = RandomizedSearchCV(\n",
    "        model,\n",
    "        param_distributions=params[i],  \n",
    "        cv=5,\n",
    "        n_jobs=-1,\n",
    "        random_state=42  \n",
    "    )\n",
    "    clf.fit(X_train_resampled, y_train_resampled)\n",
    "    print(f\"{model_class.__name__} Best Score: {clf.best_score_}, Best Params: {clf.best_params_}\")"
   ]
  },
  {
   "cell_type": "markdown",
   "id": "a3dc17a6-69ca-4327-9ae3-c502bbe082dd",
   "metadata": {},
   "source": [
    "__Model Training__"
   ]
  },
  {
   "cell_type": "code",
   "execution_count": 23,
   "id": "2a392fd3-bcbc-4e13-b5b0-9159aad3817c",
   "metadata": {},
   "outputs": [],
   "source": [
    "classifier = XGBClassifier(random_state = 0, n_estimators = 100, max_depth = 11)\n",
    "classifier.fit(X_train_resampled, y_train_resampled)\n",
    "y_pred = classifier.predict(X_test_scaled)"
   ]
  },
  {
   "cell_type": "code",
   "execution_count": 24,
   "id": "3012e3f3-ae13-4db3-8d70-edbe70502955",
   "metadata": {},
   "outputs": [
    {
     "data": {
      "text/plain": [
       "0.8900213162803091"
      ]
     },
     "execution_count": 24,
     "metadata": {},
     "output_type": "execute_result"
    }
   ],
   "source": [
    "from sklearn.metrics import accuracy_score, recall_score\n",
    "accuracy_score(y_test, y_pred)"
   ]
  },
  {
   "cell_type": "code",
   "execution_count": 25,
   "id": "9a7cd67c-962e-4011-939b-e5577a0cd3a0",
   "metadata": {},
   "outputs": [
    {
     "data": {
      "text/plain": [
       "0.897480691430673"
      ]
     },
     "execution_count": 25,
     "metadata": {},
     "output_type": "execute_result"
    }
   ],
   "source": [
    "recall_score(y_test, y_pred)"
   ]
  },
  {
   "cell_type": "markdown",
   "id": "7c0f4368-c23d-45b9-9375-5c49eeeefc51",
   "metadata": {},
   "source": [
    "__Saving Model as a Pickle file__"
   ]
  },
  {
   "cell_type": "code",
   "execution_count": 25,
   "id": "4702c9e9-f56b-4bc3-a67b-469f31b90321",
   "metadata": {},
   "outputs": [],
   "source": [
    "import pickle\n",
    "\n",
    "with open('Phishing_classifier.pkl','wb') as file:\n",
    "    pickle.dump(classifier, file)"
   ]
  },
  {
   "cell_type": "markdown",
   "id": "15335ccf-11d9-4c13-ad09-93e0630c00ba",
   "metadata": {},
   "source": [
    "__To recall the model__\n",
    "\n",
    "with open('Phishing_classifier.pkl','rb') as file:\n",
    "\n",
    "    model = pickle.load(file)"
   ]
  }
 ],
 "metadata": {
  "kernelspec": {
   "display_name": "Python 3 (ipykernel)",
   "language": "python",
   "name": "python3"
  },
  "language_info": {
   "codemirror_mode": {
    "name": "ipython",
    "version": 3
   },
   "file_extension": ".py",
   "mimetype": "text/x-python",
   "name": "python",
   "nbconvert_exporter": "python",
   "pygments_lexer": "ipython3",
   "version": "3.12.4"
  }
 },
 "nbformat": 4,
 "nbformat_minor": 5
}
